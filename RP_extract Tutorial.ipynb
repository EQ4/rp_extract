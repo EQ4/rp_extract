{
 "cells": [
  {
   "cell_type": "markdown",
   "metadata": {
    "collapsed": false
   },
   "source": [
    "<center><h1>Rhythm Patterns Music Features</h1></center>\n",
    "<br>\n",
    "<center><h2>Extraction and Application Tutorial</h2></center>\n",
    "<br>\n",
    "<center><h3>http://www.ifs.tuwien.ac.at/mir</h3></center>\n",
    "<br>\n",
    "<center><h3>Alexander Schindler and Thomas Lidy</h3><br><b>Institute of Software Technology and Interactive Systems<br>Vienna University of Technology<br>http://www.ifs.tuwien.ac.at/~schindler</b></center>\n",
    "<br>\n",
    "<br>"
   ]
  },
  {
   "cell_type": "markdown",
   "metadata": {},
   "source": [
    "## Table of Contents"
   ]
  },
  {
   "cell_type": "markdown",
   "metadata": {},
   "source": [
    "1. <a href=\"#requirements\">Requirements</a>\n",
    "2. <a href=\"#processing\">Audio Processing</a>\n",
    "3. <a href=\"#extraction\">Audio Feature Extraction</a>\n",
    "4. <a href=\"#application\">Application Scenarios</a><br>\n",
    "    4.1. <a href=\"#similar\">Finding Similar Sounding Songs</a>\n",
    "\n"
   ]
  },
  {
   "cell_type": "markdown",
   "metadata": {},
   "source": [
    "# <a name=\"requirements\"><font color=\"#0404B4\">1. Requirements</font></a>"
   ]
  },
  {
   "cell_type": "markdown",
   "metadata": {},
   "source": [
    "### Python Libraries"
   ]
  },
  {
   "cell_type": "markdown",
   "metadata": {},
   "source": [
    "If not already included in your Python installation,\n",
    "please install these Python libraries using pip or easy_install:\n",
    "\n",
    "<ul>\n",
    "<li><a href=\"http://www.numpy.org/\">Numpy</a>: the fundamental package for scientific computing with Python. It implements a wide range of fast and powerful algebraic functions.</li>\n",
    "<li><a href=\"http://www.scipy.org/install.html\">Scipy</a></li>Scientific Python library\n",
    "<li><a href=\"https://pypi.python.org/pypi/scikits.talkbox/0.2.5\">scikits.talkbox</a>: Talkbox, a set of python modules for speech/signal processing</li>\n",
    "</ul>\n",
    "\n",
    "For finding similar songs and/or using machine learning / classification: \n",
    "<ul>\n",
    "<li><a href=\"http://scikit-learn.org/stable/\">sklearn</a>: Scikit-Learn is a powerful machine learning package for Python built on numpy and Scientific Python (Scipy).</li>\n",
    "</ul>"
   ]
  },
  {
   "cell_type": "markdown",
   "metadata": {},
   "source": [
    "### RP Extract Library"
   ]
  },
  {
   "cell_type": "markdown",
   "metadata": {},
   "source": [
    "<ul>\n",
    "<li><a href=\"https://github.com/tuwien-musicir/rp_extract\">RP_extract</a>: Rhythm Patterns Audio Feature Extraction Library (includes <a href=\"https://github.com/WarrenWeckesser/wavio\">Wavio</a> for reading wav files (incl. 24 bit)) </li>\n",
    "</ul>"
   ]
  },
  {
   "cell_type": "markdown",
   "metadata": {},
   "source": [
    "### MP3 Decoder\n",
    "If you want to use MP3 files as input, you need to have one of the following MP3 decoders installed in your system:\n",
    "\n",
    "<ul>\n",
    "<li>Windows: FFMpeg (ffmpeg.exe is included in RP_extract library on Github above, nothing to install)</li>\n",
    "<li>Mac: <a href=\"http://www.thalictrum.com/en/products/lame.html\">Lame for Mac</a> or <a href=\"http://ffmpegmac.net\">FFMPeg for Mac</a></li>\n",
    "<li>Linux: please install mpg123 or lame from your Software Install Center or Package Repository</li>\n",
    "</ul>\n",
    "\n",
    "Note: If you don't install it to a path which can be found by the operating system, use this to add the decoder install path so Python can call it:"
   ]
  },
  {
   "cell_type": "code",
   "execution_count": 12,
   "metadata": {
    "collapsed": false
   },
   "outputs": [],
   "source": [
    "import os\n",
    "path = '/path/to/ffmpeg/'\n",
    "os.environ['PATH'] += os.pathsep + path"
   ]
  },
  {
   "cell_type": "markdown",
   "metadata": {},
   "source": [
    "#### Test your Environment\n",
    "If you have installed all required libraries, the follwing imports should run without errors."
   ]
  },
  {
   "cell_type": "code",
   "execution_count": 13,
   "metadata": {
    "collapsed": false
   },
   "outputs": [
    {
     "name": "stdout",
     "output_type": "stream",
     "text": [
      "Populating the interactive namespace from numpy and matplotlib\n",
      "The autoreload extension is already loaded. To reload it, use:\n",
      "  %reload_ext autoreload\n"
     ]
    },
    {
     "name": "stderr",
     "output_type": "stream",
     "text": [
      "WARNING: pylab import has clobbered these variables: ['pylab']\n",
      "`%matplotlib` prevents importing * from pylab and numpy\n"
     ]
    }
   ],
   "source": [
    "%pylab inline\n",
    "\n",
    "import warnings\n",
    "warnings.filterwarnings('ignore')\n",
    "\n",
    "%load_ext autoreload\n",
    "%autoreload 2\n",
    "\n",
    "# numerical processing and scientific libraries\n",
    "import numpy as np\n",
    "import pandas as pd\n",
    "\n",
    "# plotting\n",
    "import matplotlib.pyplot as plt\n",
    "\n",
    "# Rhythm Pattern Audio Extraction Library\n",
    "## edit the path here where you checked out and stored the rp_extract package\n",
    "#import sys\n",
    "#sys.path.append(\"./rp_extract\")\n",
    "from rp_plot import *\n",
    "from rp_extract_python import rp_extract\n",
    "\n",
    "# reading wav and mp3 files\n",
    "from audiofile_read import *\n",
    "\n",
    "# misc\n",
    "from urllib import urlopen\n",
    "import urllib2\n",
    "import gzip\n",
    "import StringIO"
   ]
  },
  {
   "cell_type": "markdown",
   "metadata": {},
   "source": [
    "# <a name=\"processing\"><font color=\"#0404B4\">2. Audio Processing</font></a>"
   ]
  },
  {
   "cell_type": "markdown",
   "metadata": {},
   "source": [
    "Feature Extraction is the core of content-based description of audio files. With feature extraction from audio, a computer is able to recognize the content of a piece of music without the need of annotated labels such as artist, song title or genre. This is the essential basis for information retrieval tasks, such as similarity based searches (query-by-example, query-by-humming, etc.), automatic classification into categories, or automatic organization and clustering of music archives.\n",
    "\n",
    "Content-based description requires the development of feature extraction techniques that analyze the acoustic characteristics of the signal. Features extracted from the audio signal are intended to describe the stylistic content of the music, e.g. beat, presence of voice, timbre, etc.\n",
    "\n",
    "We use methods from digital signal processing and consider psycho-acoustic models in order to extract suitable semantic information from music. We developed various feature sets, which are appropriate for different tasks."
   ]
  },
  {
   "cell_type": "markdown",
   "metadata": {},
   "source": [
    "## Load Audio Files\n",
    "\n",
    "### Load audio data from wav or mp3 file\n",
    "\n",
    "We provide a library (audiofile_read.py) that is capable of reading WAV and MP3 files (MP3 through an external decoder, see Installation Requirements above)\n"
   ]
  },
  {
   "cell_type": "code",
   "execution_count": 20,
   "metadata": {
    "collapsed": true
   },
   "outputs": [],
   "source": [
    "# provide/adjust the path to your wav or mp3 file\n",
    "\n",
    "audiofile = \"myaudio.wav\"\n",
    "\n",
    "samplerate, samplewidth, wavedata = audiofile_read(audiofile)"
   ]
  },
  {
   "cell_type": "markdown",
   "metadata": {},
   "source": [
    "### Normalization\n",
    "\n",
    "Usually, an audio files stores integer values for the samples. However, for audio processing we need float values that's why the audiofile_read library already converts the input data to float values in the range of (-1,1). \n",
    "\n",
    "This is taken care of by audiofile_read. In case you don't want to normalize, use this line instead of the one above:\n"
   ]
  },
  {
   "cell_type": "code",
   "execution_count": 17,
   "metadata": {
    "collapsed": true
   },
   "outputs": [],
   "source": [
    "# ONLY use this if you don't want to normalize. RP_extract NEEDS normalization\n",
    "\n",
    "samplerate, samplewidth, wavedata = audiofile_read(audiofile, normalize=False)"
   ]
  },
  {
   "cell_type": "markdown",
   "metadata": {},
   "source": [
    "### Audio Information\n",
    "\n",
    "Let's print some information about the audio file just read:"
   ]
  },
  {
   "cell_type": "code",
   "execution_count": 26,
   "metadata": {
    "collapsed": false
   },
   "outputs": [
    {
     "name": "stdout",
     "output_type": "stream",
     "text": [
      "Successfully read audio file: myaudio.wav\n",
      "44100 Hz, 24 bit, 1 channel(s), 951680 samples\n"
     ]
    }
   ],
   "source": [
    "nsamples = wavedata.shape[0]\n",
    "nchannels = wavedata.shape[1]\n",
    "\n",
    "print \"Successfully read audio file:\", audiofile\n",
    "print samplerate, \"Hz,\", samplewidth*8, \"bit,\", nchannels, \"channel(s),\", nsamples, \"samples\""
   ]
  },
  {
   "cell_type": "markdown",
   "metadata": {},
   "source": [
    "### Plot Wave form\n",
    "we use this to check if the WAV or MP3 file has been correctly loaded"
   ]
  },
  {
   "cell_type": "code",
   "execution_count": 21,
   "metadata": {
    "collapsed": false,
    "scrolled": true
   },
   "outputs": [
    {
     "ename": "IndexError",
     "evalue": "index 1 is out of bounds for axis 1 with size 1",
     "output_type": "error",
     "traceback": [
      "\u001b[0;31m---------------------------------------------------------------------------\u001b[0m",
      "\u001b[0;31mIndexError\u001b[0m                                Traceback (most recent call last)",
      "\u001b[0;32m<ipython-input-21-c4dbc1eccbb8>\u001b[0m in \u001b[0;36m<module>\u001b[0;34m()\u001b[0m\n\u001b[0;32m----> 1\u001b[0;31m \u001b[0mplotstereo_waveform\u001b[0m\u001b[0;34m(\u001b[0m\u001b[0mwavedata\u001b[0m\u001b[0;34m,\u001b[0m \u001b[0;36m16\u001b[0m\u001b[0;34m,\u001b[0m \u001b[0;36m5\u001b[0m\u001b[0;34m)\u001b[0m\u001b[0;34m;\u001b[0m\u001b[0;34m\u001b[0m\u001b[0m\n\u001b[0m",
      "\u001b[0;32m/Users/Tom/Documents/Coding/rp_extract/rp_plot.pyc\u001b[0m in \u001b[0;36mplotstereo_waveform\u001b[0;34m(samples, plot_width, plot_height)\u001b[0m\n\u001b[1;32m    106\u001b[0m     \u001b[0mchannel_2\u001b[0m\u001b[0;34m.\u001b[0m\u001b[0mset_ylim\u001b[0m\u001b[0;34m(\u001b[0m\u001b[0;34m-\u001b[0m\u001b[0;36m1\u001b[0m\u001b[0;34m,\u001b[0m\u001b[0;36m1\u001b[0m\u001b[0;34m)\u001b[0m\u001b[0;34m\u001b[0m\u001b[0m\n\u001b[1;32m    107\u001b[0m     \u001b[0;31m#channel_2.set_xlim(0,song_length) # todo\u001b[0m\u001b[0;34m\u001b[0m\u001b[0;34m\u001b[0m\u001b[0m\n\u001b[0;32m--> 108\u001b[0;31m     \u001b[0mchannel_2\u001b[0m\u001b[0;34m.\u001b[0m\u001b[0mplot\u001b[0m\u001b[0;34m(\u001b[0m\u001b[0msamples\u001b[0m\u001b[0;34m[\u001b[0m\u001b[0;34m:\u001b[0m\u001b[0;34m,\u001b[0m\u001b[0;36m1\u001b[0m\u001b[0;34m]\u001b[0m\u001b[0;34m)\u001b[0m\u001b[0;34m\u001b[0m\u001b[0m\n\u001b[0m\u001b[1;32m    109\u001b[0m \u001b[0;34m\u001b[0m\u001b[0m\n\u001b[1;32m    110\u001b[0m     \u001b[0mplt\u001b[0m\u001b[0;34m.\u001b[0m\u001b[0mshow\u001b[0m\u001b[0;34m(\u001b[0m\u001b[0;34m)\u001b[0m\u001b[0;34m;\u001b[0m\u001b[0;34m\u001b[0m\u001b[0m\n",
      "\u001b[0;31mIndexError\u001b[0m: index 1 is out of bounds for axis 1 with size 1"
     ]
    },
    {
     "data": {
      "image/png": "[encoded data removed]",
      "text/plain": [
       "<matplotlib.figure.Figure at 0x157e60d50>"
      ]
     },
     "metadata": {},
     "output_type": "display_data"
    }
   ],
   "source": [
    "\n",
    "\n",
    "plotstereo_waveform(wavedata, 16, 5);"
   ]
  },
  {
   "cell_type": "code",
   "execution_count": 22,
   "metadata": {
    "collapsed": false,
    "scrolled": true
   },
   "outputs": [
    {
     "data": {
      "image/png": "[encoded data removed]",
      "text/plain": [
       "<matplotlib.figure.Figure at 0x157df6190>"
      ]
     },
     "metadata": {},
     "output_type": "display_data"
    },
    {
     "data": {
      "text/plain": [
       "<matplotlib.figure.Figure at 0x157d34cd0>"
      ]
     },
     "metadata": {},
     "output_type": "display_data"
    }
   ],
   "source": [
    "plotmono_waveform(wavedata[0:150000], 16,5)"
   ]
  },
  {
   "cell_type": "markdown",
   "metadata": {},
   "source": [
    "### Audio Pre-processing"
   ]
  },
  {
   "cell_type": "markdown",
   "metadata": {},
   "source": [
    "Combine separate channels"
   ]
  },
  {
   "cell_type": "code",
   "execution_count": 8,
   "metadata": {
    "collapsed": false
   },
   "outputs": [],
   "source": [
    "# use combine the channels by calculating their geometric mean\n",
    "wavedata_mono = np.mean(wavedata, axis=1)"
   ]
  },
  {
   "cell_type": "markdown",
   "metadata": {},
   "source": [
    "Below an example waveform of a mono channel after combining the stereo channels by arithmetic mean:"
   ]
  },
  {
   "cell_type": "code",
   "execution_count": 9,
   "metadata": {
    "collapsed": false,
    "scrolled": true
   },
   "outputs": [
    {
     "data": {
      "image/png": "[encoded data removed]",
      "text/plain": [
       "<matplotlib.figure.Figure at 0x1961cac8>"
      ]
     },
     "metadata": {},
     "output_type": "display_data"
    },
    {
     "data": {
      "text/plain": [
       "<matplotlib.figure.Figure at 0x21a5de48>"
      ]
     },
     "metadata": {},
     "output_type": "display_data"
    }
   ],
   "source": [
    "plotmono_waveform(wavedata_mono, 16, 3)"
   ]
  },
  {
   "cell_type": "code",
   "execution_count": 10,
   "metadata": {
    "collapsed": false
   },
   "outputs": [
    {
     "data": {
      "image/png": "[encoded data removed]",
      "text/plain": [
       "<matplotlib.figure.Figure at 0x21a5d0b8>"
      ]
     },
     "metadata": {},
     "output_type": "display_data"
    }
   ],
   "source": [
    "plotstft(wavedata_mono, samplerate, binsize=512, ignore=True);"
   ]
  },
  {
   "cell_type": "markdown",
   "metadata": {},
   "source": [
    "# <a name=\"extraction\"><font color=\"#0404B4\">3. Audio Feature Extraction</font></a>"
   ]
  },
  {
   "cell_type": "markdown",
   "metadata": {},
   "source": [
    "## Rhythm Patterns "
   ]
  },
  {
   "cell_type": "markdown",
   "metadata": {},
   "source": [
    "<img width=\"350\" src=\"http://www.ifs.tuwien.ac.at/mir/audiofeatureextraction/feature_extraction_RP_SSD_RH_web.png\" style=\"float:right;margin-left:20px;margin-bottom:20px\">\n",
    "\n",
    "Rhythm Patterns (also called Fluctuation Patterns) describe modulation amplitudes for a range of modulation frequencies on \"critical bands\" of the human auditory range, i.e. fluctuations (or rhythm) on a number of frequency bands. The feature extraction process for the Rhythm Patterns is composed of two stages:\n",
    "\n",
    "First, the specific loudness sensation in different frequency bands is computed, by using a Short Time FFT, grouping the resulting frequency bands to psycho-acoustically motivated critical-bands, applying spreading functions to account for masking effects and successive transformation into the decibel, Phon and Sone scales. This results in a power spectrum that reflects human loudness sensation (Sonogram).\n",
    "\n",
    "In the second step, the spectrum is transformed into a time-invariant representation based on the modulation frequency, which is achieved by applying another discrete Fourier transform, resulting in amplitude modulations of the loudness in individual critical bands. These amplitude modulations have different effects on human hearing sensation depending on their frequency, the most significant of which, referred to as fluctuation strength, is most intense at 4 Hz and decreasing towards 15 Hz. From that data, reoccurring patterns in the individual critical bands, resembling rhythm, are extracted, which – after applying Gaussian smoothing to diminish small variations – result in a time-invariant, comparable representation of the rhythmic patterns in the individual critical bands."
   ]
  },
  {
   "cell_type": "code",
   "execution_count": 172,
   "metadata": {
    "collapsed": false
   },
   "outputs": [],
   "source": [
    "extracted_features = rp_extract(wavedata,                            # the two-channel wave-data of the audio-file\n",
    "                                samplerate,                          # the samplerate of the audio-file\n",
    "                                extract_rp          = True,          # <== extract this feature!\n",
    "                                transform_db        = True,          # apply psycho-accoustic transformation\n",
    "                                transform_phon      = True,          # apply psycho-accoustic transformation\n",
    "                                transform_sone      = True,          # apply psycho-accoustic transformation\n",
    "                                fluctuation_strength_weighting=True, # apply psycho-accoustic transformation\n",
    "                                skip_leadin_fadeout = 1,             # skip lead-in/fade-out. value = number of segments skipped\n",
    "                                step_width          = 1)             # "
   ]
  },
  {
   "cell_type": "code",
   "execution_count": 173,
   "metadata": {
    "collapsed": false,
    "scrolled": true
   },
   "outputs": [
    {
     "name": "stdout",
     "output_type": "stream",
     "text": [
      "(24, 60)\n"
     ]
    },
    {
     "data": {
      "image/png": "[encoded data removed]",
      "text/plain": [
       "<matplotlib.figure.Figure at 0x10fdb7950>"
      ]
     },
     "metadata": {},
     "output_type": "display_data"
    }
   ],
   "source": [
    "plotrp(extracted_features['rp'])"
   ]
  },
  {
   "cell_type": "markdown",
   "metadata": {},
   "source": [
    "## Statistical Spectrum Descriptor "
   ]
  },
  {
   "cell_type": "markdown",
   "metadata": {},
   "source": [
    "The Sonogram is calculated as in the first part of the Rhythm Patterns calculation. According to the occurrence of beats or other rhythmic variation of energy on a specific critical band, statistical measures are able to describe the audio content. Our goal is to describe the rhythmic content of a piece of audio by computing the following statistical moments on the Sonogram values of each of the critical bands:\n",
    "\n",
    "  * mean, median, variance, skewness, kurtosis, min- and max-value"
   ]
  },
  {
   "cell_type": "code",
   "execution_count": 13,
   "metadata": {
    "collapsed": false
   },
   "outputs": [],
   "source": [
    "extracted_features = rp_extract(wavedata,                            # the two-channel wave-data of the audio-file\n",
    "                                samplerate,                          # the samplerate of the audio-file\n",
    "                                extract_ssd         = True,          # <== extract this feature!\n",
    "                                transform_db        = True,          # apply psycho-accoustic transformation\n",
    "                                transform_phon      = True,          # apply psycho-accoustic transformation\n",
    "                                transform_sone      = True,          # apply psycho-accoustic transformation\n",
    "                                fluctuation_strength_weighting=True, # apply psycho-accoustic transformation\n",
    "                                skip_leadin_fadeout = 1,             # skip lead-in/fade-out. value = number of segments skipped\n",
    "                                step_width          = 1)             # "
   ]
  },
  {
   "cell_type": "code",
   "execution_count": 14,
   "metadata": {
    "collapsed": false
   },
   "outputs": [
    {
     "data": {
      "image/png": "[encoded data removed]",
      "text/plain": [
       "<matplotlib.figure.Figure at 0x19a94588>"
      ]
     },
     "metadata": {},
     "output_type": "display_data"
    }
   ],
   "source": [
    "plotssd(extracted_features['ssd'])"
   ]
  },
  {
   "cell_type": "markdown",
   "metadata": {},
   "source": [
    "## Rhythm Histogram"
   ]
  },
  {
   "cell_type": "markdown",
   "metadata": {},
   "source": [
    "The Rhythm Histogram features we use are a descriptor for general rhythmics in an audio document. Contrary to the Rhythm Patterns and the Statistical Spectrum Descriptor, information is not stored per critical band. Rather, the magnitudes of each modulation frequency bin of all critical bands are summed up, to form a histogram of \"rhythmic energy\" per modulation frequency. The histogram contains 60 bins which reflect modulation frequency between 0 and 10 Hz. For a given piece of audio, the Rhythm Histogram feature set is calculated by taking the median of the histograms of every 6 second segment processed."
   ]
  },
  {
   "cell_type": "code",
   "execution_count": 15,
   "metadata": {
    "collapsed": false
   },
   "outputs": [],
   "source": [
    "extracted_features = rp_extract(wavedata,                            # the two-channel wave-data of the audio-file\n",
    "                                samplerate,                          # the samplerate of the audio-file\n",
    "                                extract_rh          = True,          # <== extract this feature!\n",
    "                                transform_db        = True,          # apply psycho-accoustic transformation\n",
    "                                transform_phon      = True,          # apply psycho-accoustic transformation\n",
    "                                transform_sone      = True,          # apply psycho-accoustic transformation\n",
    "                                fluctuation_strength_weighting=True, # apply psycho-accoustic transformation\n",
    "                                skip_leadin_fadeout = 1,             # skip lead-in/fade-out. value = number of segments skipped\n",
    "                                step_width          = 1)             # "
   ]
  },
  {
   "cell_type": "code",
   "execution_count": 16,
   "metadata": {
    "collapsed": false
   },
   "outputs": [
    {
     "data": {
      "image/png": "[encoded data removed]",
      "text/plain": [
       "<matplotlib.figure.Figure at 0x19951630>"
      ]
     },
     "metadata": {},
     "output_type": "display_data"
    }
   ],
   "source": [
    "plotrh(extracted_features['rh'])"
   ]
  },
  {
   "cell_type": "markdown",
   "metadata": {},
   "source": [
    "## Modulation Frequency Variance Descriptor "
   ]
  },
  {
   "cell_type": "markdown",
   "metadata": {},
   "source": [
    "This descriptor measures variations over the critical frequency bands for a specific modulation frequency (derived from a rhythm pattern).\n",
    "\n",
    "Considering a rhythm pattern, i.e. a matrix representing the amplitudes of 60 modulation frequencies on 24 critical bands, an MVD vector is derived by computing statistical measures (mean, median, variance, skewness, kurtosis, min and max) for each modulation frequency over the 24 bands. A vector is computed for each of the 60 modulation frequencies. Then, an MVD descriptor for an audio file is computed by the mean of multiple MVDs from the audio file's segments, leading to a 420-dimensional vector. "
   ]
  },
  {
   "cell_type": "markdown",
   "metadata": {},
   "source": [
    "## Temporal Statistical Spectrum Descriptor "
   ]
  },
  {
   "cell_type": "markdown",
   "metadata": {},
   "source": [
    "Feature sets are frequently computed on a per segment basis and do not incorporate time series aspects. As a consequence, TSSD features describe variations over time by including a temporal dimension. Statistical measures (mean, median, variance, skewness, kurtosis, min and max) are computed over the individual statistical spec- trum descriptors extracted from segments at different time positions within a piece of audio. This captures timbral variations and changes over time in the audio spectrum, for all the critical Bark-bands. Thus, a change of rhythmic, instruments, voices, etc. over time is reflected by this feature set. The dimension is 7 times the dimension of an SSD (i.e. 1176)."
   ]
  },
  {
   "cell_type": "markdown",
   "metadata": {},
   "source": [
    "## Temporal Rhythm Histograms"
   ]
  },
  {
   "cell_type": "markdown",
   "metadata": {},
   "source": [
    "Statistical measures (mean, median, variance, skewness, kurtosis, min and max) are computed over the individual Rhythm Histograms extracted from various segments in a piece of audio. Thus, change and variation of rhythmic aspects in time are captured by this descriptor. "
   ]
  },
  {
   "cell_type": "markdown",
   "metadata": {},
   "source": [
    "# <a name=\"application\"><font color=\"#0404B4\">4. Application Scenarios</font></a>"
   ]
  },
  {
   "cell_type": "markdown",
   "metadata": {},
   "source": [
    "In these application scenarios we try to find similar songs or classify music into different categories.\n",
    "\n",
    "For these Use Cases we need to import a few additional functions from the sklearn package:"
   ]
  },
  {
   "cell_type": "code",
   "execution_count": null,
   "metadata": {
    "collapsed": true
   },
   "outputs": [],
   "source": [
    "# IMPORTS for Classification and Evaluation\n",
    "from sklearn.preprocessing import StandardScaler\n",
    "from sklearn import svm\n",
    "from sklearn.cross_validation import StratifiedKFold, ShuffleSplit, cross_val_score\n",
    "from sklearn.naive_bayes import GaussianNB\n",
    "from sklearn.neighbors import NearestNeighbors\n",
    "from sklearn.ensemble import RandomForestClassifier\n",
    "from sklearn.metrics import classification_report, confusion_matrix"
   ]
  },
  {
   "cell_type": "markdown",
   "metadata": {},
   "source": [
    "## The Soundcloud Demo Dataset"
   ]
  },
  {
   "cell_type": "markdown",
   "metadata": {},
   "source": [
    "The Soundcloud Demo Dataset is a collection of commonly known mainstream radio songs hosted on the online streaming platform Soundcloud. The Dataset is available as playlist and is intended to be used to demonstrate the performance of MIR algorithms with the help of well known songs.\n",
    "\n",
    "<iframe width=\"100%\" height=\"450\" scrolling=\"no\" frameborder=\"no\" src=\"https://w.soundcloud.com/player/?url=https%3A//api.soundcloud.com/playlists/106852365&amp;auto_play=false&amp;hide_related=false&amp;show_comments=true&amp;show_user=true&amp;show_reposts=false&amp;visual=true\"></iframe>"
   ]
  },
  {
   "cell_type": "code",
   "execution_count": 34,
   "metadata": {
    "collapsed": true
   },
   "outputs": [],
   "source": [
    "sys.path.append(\"C:/Work/IFS/mir_utils\")\n",
    "from demo.NotebookUtils import *\n",
    "from demo.PlottingUtils import *\n",
    "from demo.Soundcloud_Demo_Dataset import SoundcloudDemodatasetHandler"
   ]
  },
  {
   "cell_type": "markdown",
   "metadata": {},
   "source": [
    "The *SoundcloudDemodatasetHandler* abstracts the access to the TU-Wien server. On this server the extracted features are stored as csv-files. The *SoundcloudDemodatasetHandler* remotely loads the features and returns them by request. The features have been extracted using the method explained in the previous sections."
   ]
  },
  {
   "cell_type": "code",
   "execution_count": 35,
   "metadata": {
    "collapsed": true
   },
   "outputs": [],
   "source": [
    "scds = SoundcloudDemodatasetHandler(\"D:/Research/Data/MIR/Soundcloud_Dataset\", lazy=True)"
   ]
  },
  {
   "cell_type": "markdown",
   "metadata": {},
   "source": [
    "## <a name=\"similar\"><font color=\"#0404B4\">4.1. Finding Similar Sounding Songs</font></a>"
   ]
  },
  {
   "cell_type": "markdown",
   "metadata": {},
   "source": [
    "The query-song:"
   ]
  },
  {
   "cell_type": "code",
   "execution_count": null,
   "metadata": {
    "collapsed": false
   },
   "outputs": [],
   "source": [
    "query_track_soundcloud_id = 68687842\n",
    "\n",
    "HTML(scds.getPlayerHTMLForID(query_track_soundcloud_id))"
   ]
  },
  {
   "cell_type": "markdown",
   "metadata": {},
   "source": [
    "Fitting the siilarity search object"
   ]
  },
  {
   "cell_type": "code",
   "execution_count": 21,
   "metadata": {
    "collapsed": false
   },
   "outputs": [],
   "source": [
    "sim_song_search = NearestNeighbors(n_neighbors = 6, metric='euclidean')"
   ]
  },
  {
   "cell_type": "markdown",
   "metadata": {},
   "source": [
    "### Finding rhythmical similar songs"
   ]
  },
  {
   "cell_type": "markdown",
   "metadata": {},
   "source": [
    "##### Finding rhythmical similar songs using Rhythm Histograms"
   ]
  },
  {
   "cell_type": "code",
   "execution_count": 22,
   "metadata": {
    "collapsed": false
   },
   "outputs": [],
   "source": [
    "feature_set = 'rh'"
   ]
  },
  {
   "cell_type": "markdown",
   "metadata": {},
   "source": [
    "Normalize the extracted features."
   ]
  },
  {
   "cell_type": "code",
   "execution_count": 23,
   "metadata": {
    "collapsed": false
   },
   "outputs": [],
   "source": [
    "scaled_feature_space = StandardScaler().fit_transform(rp_features[feature_set][\"data\"])"
   ]
  },
  {
   "cell_type": "markdown",
   "metadata": {},
   "source": [
    "Fit the Nearest-Neighbor search object to the extracted features"
   ]
  },
  {
   "cell_type": "code",
   "execution_count": 24,
   "metadata": {
    "collapsed": false
   },
   "outputs": [],
   "source": [
    "sim_song_search.fit(scaled_feature_space);"
   ]
  },
  {
   "cell_type": "markdown",
   "metadata": {},
   "source": [
    "Retrieve the feature vector for the query song"
   ]
  },
  {
   "cell_type": "code",
   "execution_count": 25,
   "metadata": {
    "collapsed": false
   },
   "outputs": [],
   "source": [
    "query_track_feature_vector = scaled_feature_space[rp_features[feature_set][\"soundcloudids\"] == query_track_soundcloud_id]"
   ]
  },
  {
   "cell_type": "markdown",
   "metadata": {},
   "source": [
    "Search the nearest neighbors of the query-feature-vector"
   ]
  },
  {
   "cell_type": "code",
   "execution_count": 26,
   "metadata": {
    "collapsed": false
   },
   "outputs": [],
   "source": [
    "similar_songs = sim_song_search.kneighbors(query_track_feature_vector, return_distance=False)[0]"
   ]
  },
  {
   "cell_type": "markdown",
   "metadata": {},
   "source": [
    "Because we are searching in the entire collection, the top-most result is the query song itself. Thus, we can skip it."
   ]
  },
  {
   "cell_type": "code",
   "execution_count": 27,
   "metadata": {
    "collapsed": false
   },
   "outputs": [],
   "source": [
    "similar_songs = similar_songs[1:]"
   ]
  },
  {
   "cell_type": "markdown",
   "metadata": {},
   "source": [
    "Lookup the corresponding Soundcloud-IDs"
   ]
  },
  {
   "cell_type": "code",
   "execution_count": 28,
   "metadata": {
    "collapsed": false
   },
   "outputs": [],
   "source": [
    "similar_soundcloud_ids = rp_features[feature_set][\"soundcloudids\"][similar_songs]"
   ]
  },
  {
   "cell_type": "markdown",
   "metadata": {},
   "source": [
    "Listen to the results"
   ]
  },
  {
   "cell_type": "code",
   "execution_count": 39,
   "metadata": {
    "collapsed": false
   },
   "outputs": [
    {
     "data": {
      "text/html": [
       "<table width='90%' style='border:none'><tr style='border:none'><td style='border:none'><iframe width=\"100%\" height=\"120\" scrolling=\"no\" frameborder=\"no\"src=\"https://w.soundcloud.com/player/?url=https%3A//api.soundcloud.com/tracks/19505822&amp;auto_play=false&amp;hide_related=true&amp;show_comments=false&amp;show_user=false&amp;show_reposts=false&amp;visual=false\"></iframe></td></tr><tr style='border:none'><td style='border:none'><iframe width=\"100%\" height=\"120\" scrolling=\"no\" frameborder=\"no\"src=\"https://w.soundcloud.com/player/?url=https%3A//api.soundcloud.com/tracks/108622874&amp;auto_play=false&amp;hide_related=true&amp;show_comments=false&amp;show_user=false&amp;show_reposts=false&amp;visual=false\"></iframe></td></tr><tr style='border:none'><td style='border:none'><iframe width=\"100%\" height=\"120\" scrolling=\"no\" frameborder=\"no\"src=\"https://w.soundcloud.com/player/?url=https%3A//api.soundcloud.com/tracks/40279580&amp;auto_play=false&amp;hide_related=true&amp;show_comments=false&amp;show_user=false&amp;show_reposts=false&amp;visual=false\"></iframe></td></tr><tr style='border:none'><td style='border:none'><iframe width=\"100%\" height=\"120\" scrolling=\"no\" frameborder=\"no\"src=\"https://w.soundcloud.com/player/?url=https%3A//api.soundcloud.com/tracks/15964713&amp;auto_play=false&amp;hide_related=true&amp;show_comments=false&amp;show_user=false&amp;show_reposts=false&amp;visual=false\"></iframe></td></tr><tr style='border:none'><td style='border:none'><iframe width=\"100%\" height=\"120\" scrolling=\"no\" frameborder=\"no\"src=\"https://w.soundcloud.com/player/?url=https%3A//api.soundcloud.com/tracks/23681901&amp;auto_play=false&amp;hide_related=true&amp;show_comments=false&amp;show_user=false&amp;show_reposts=false&amp;visual=false\"></iframe></td></tr></table>"
      ],
      "text/plain": [
       "[19505822, 108622874, 40279580, 15964713, 23681901]"
      ]
     },
     "execution_count": 39,
     "metadata": {},
     "output_type": "execute_result"
    }
   ],
   "source": [
    "SoundcloudTracklist(similar_soundcloud_ids, width=90, height=120, visual=False)"
   ]
  },
  {
   "cell_type": "markdown",
   "metadata": {},
   "source": [
    "##### Finding rhythmical similar songs using Rhythm Patterns"
   ]
  },
  {
   "cell_type": "code",
   "execution_count": 40,
   "metadata": {
    "collapsed": false
   },
   "outputs": [],
   "source": [
    "def search_similar_songs(query_song_id, feature_set, skip_query=True):\n",
    "\n",
    "    #\n",
    "    scaled_feature_space = StandardScaler().fit_transform(rp_features[feature_set][\"data\"])\n",
    "\n",
    "    #\n",
    "    sim_song_search.fit(scaled_feature_space);\n",
    "\n",
    "    #\n",
    "    query_track_feature_vector = scaled_feature_space[rp_features[feature_set][\"soundcloudids\"] == query_song_id]\n",
    "\n",
    "    #\n",
    "    similar_songs = sim_song_search.kneighbors(query_track_feature_vector, return_distance=False)[0]\n",
    "    \n",
    "    if skip_query:\n",
    "        similar_songs = similar_songs[1:]\n",
    "\n",
    "    #\n",
    "    similar_soundcloud_ids = rp_features[feature_set][\"soundcloudids\"][similar_songs]\n",
    "    \n",
    "    return similar_soundcloud_ids"
   ]
  },
  {
   "cell_type": "code",
   "execution_count": 41,
   "metadata": {
    "collapsed": false
   },
   "outputs": [
    {
     "data": {
      "text/html": [
       "<table width='90%' style='border:none'><tr style='border:none'><td style='border:none'><iframe width=\"100%\" height=\"120\" scrolling=\"no\" frameborder=\"no\"src=\"https://w.soundcloud.com/player/?url=https%3A//api.soundcloud.com/tracks/108622874&amp;auto_play=false&amp;hide_related=true&amp;show_comments=false&amp;show_user=false&amp;show_reposts=false&amp;visual=false\"></iframe></td></tr><tr style='border:none'><td style='border:none'><iframe width=\"100%\" height=\"120\" scrolling=\"no\" frameborder=\"no\"src=\"https://w.soundcloud.com/player/?url=https%3A//api.soundcloud.com/tracks/19505822&amp;auto_play=false&amp;hide_related=true&amp;show_comments=false&amp;show_user=false&amp;show_reposts=false&amp;visual=false\"></iframe></td></tr><tr style='border:none'><td style='border:none'><iframe width=\"100%\" height=\"120\" scrolling=\"no\" frameborder=\"no\"src=\"https://w.soundcloud.com/player/?url=https%3A//api.soundcloud.com/tracks/40279580&amp;auto_play=false&amp;hide_related=true&amp;show_comments=false&amp;show_user=false&amp;show_reposts=false&amp;visual=false\"></iframe></td></tr><tr style='border:none'><td style='border:none'><iframe width=\"100%\" height=\"120\" scrolling=\"no\" frameborder=\"no\"src=\"https://w.soundcloud.com/player/?url=https%3A//api.soundcloud.com/tracks/59732818&amp;auto_play=false&amp;hide_related=true&amp;show_comments=false&amp;show_user=false&amp;show_reposts=false&amp;visual=false\"></iframe></td></tr><tr style='border:none'><td style='border:none'><iframe width=\"100%\" height=\"120\" scrolling=\"no\" frameborder=\"no\"src=\"https://w.soundcloud.com/player/?url=https%3A//api.soundcloud.com/tracks/70343006&amp;auto_play=false&amp;hide_related=true&amp;show_comments=false&amp;show_user=false&amp;show_reposts=false&amp;visual=false\"></iframe></td></tr></table>"
      ],
      "text/plain": [
       "[108622874, 19505822, 40279580, 59732818, 70343006]"
      ]
     },
     "execution_count": 41,
     "metadata": {},
     "output_type": "execute_result"
    }
   ],
   "source": [
    "similar_soundcloud_ids = search_similar_songs(query_track_soundcloud_id, \n",
    "                                              feature_set='rp')\n",
    "\n",
    "SoundcloudTracklist(similar_soundcloud_ids, width=90, height=120, visual=False)"
   ]
  },
  {
   "cell_type": "markdown",
   "metadata": {},
   "source": [
    "### Finding songs based on timbral similarity"
   ]
  },
  {
   "cell_type": "markdown",
   "metadata": {},
   "source": [
    "##### Finding songs based on timbral similarity using Statistical Spectral Descriptors"
   ]
  },
  {
   "cell_type": "code",
   "execution_count": 42,
   "metadata": {
    "collapsed": false
   },
   "outputs": [
    {
     "data": {
      "text/html": [
       "<table width='90%' style='border:none'><tr style='border:none'><td style='border:none'><iframe width=\"100%\" height=\"120\" scrolling=\"no\" frameborder=\"no\"src=\"https://w.soundcloud.com/player/?url=https%3A//api.soundcloud.com/tracks/19505822&amp;auto_play=false&amp;hide_related=true&amp;show_comments=false&amp;show_user=false&amp;show_reposts=false&amp;visual=false\"></iframe></td></tr><tr style='border:none'><td style='border:none'><iframe width=\"100%\" height=\"120\" scrolling=\"no\" frameborder=\"no\"src=\"https://w.soundcloud.com/player/?url=https%3A//api.soundcloud.com/tracks/108622874&amp;auto_play=false&amp;hide_related=true&amp;show_comments=false&amp;show_user=false&amp;show_reposts=false&amp;visual=false\"></iframe></td></tr><tr style='border:none'><td style='border:none'><iframe width=\"100%\" height=\"120\" scrolling=\"no\" frameborder=\"no\"src=\"https://w.soundcloud.com/player/?url=https%3A//api.soundcloud.com/tracks/40279580&amp;auto_play=false&amp;hide_related=true&amp;show_comments=false&amp;show_user=false&amp;show_reposts=false&amp;visual=false\"></iframe></td></tr><tr style='border:none'><td style='border:none'><iframe width=\"100%\" height=\"120\" scrolling=\"no\" frameborder=\"no\"src=\"https://w.soundcloud.com/player/?url=https%3A//api.soundcloud.com/tracks/15964713&amp;auto_play=false&amp;hide_related=true&amp;show_comments=false&amp;show_user=false&amp;show_reposts=false&amp;visual=false\"></iframe></td></tr><tr style='border:none'><td style='border:none'><iframe width=\"100%\" height=\"120\" scrolling=\"no\" frameborder=\"no\"src=\"https://w.soundcloud.com/player/?url=https%3A//api.soundcloud.com/tracks/23681901&amp;auto_play=false&amp;hide_related=true&amp;show_comments=false&amp;show_user=false&amp;show_reposts=false&amp;visual=false\"></iframe></td></tr></table>"
      ],
      "text/plain": [
       "[19505822, 108622874, 40279580, 15964713, 23681901]"
      ]
     },
     "execution_count": 42,
     "metadata": {},
     "output_type": "execute_result"
    }
   ],
   "source": [
    "similar_soundcloud_ids = search_similar_songs(query_track_soundcloud_id, \n",
    "                                              feature_set='ssd')\n",
    "\n",
    "SoundcloudTracklist(similar_soundcloud_ids, width=90, height=120, visual=False)"
   ]
  },
  {
   "cell_type": "markdown",
   "metadata": {},
   "source": [
    "First entry is query-track (TODO: change CSS style of query table cells!)"
   ]
  },
  {
   "cell_type": "code",
   "execution_count": 43,
   "metadata": {
    "collapsed": false,
    "scrolled": false
   },
   "outputs": [
    {
     "data": {
      "text/html": [
       "<table width='100%' style='border:none'><tr style='border:none'><td style='border:none'><center><b>Statistical Spectrum Descriptors</b></center></td><td style='border:none'><center><b>Rhythm Histograms</b></center></td></tr><tr style='border:none'><td style='border:none'><iframe width=\"100%\" height=\"120\" scrolling=\"no\" frameborder=\"no\"src=\"https://w.soundcloud.com/player/?url=https%3A//api.soundcloud.com/tracks/68687842&amp;auto_play=false&amp;hide_related=true&amp;show_comments=false&amp;show_user=false&amp;show_reposts=false&amp;visual=false\"></iframe></td><td style='border:none'><iframe width=\"100%\" height=\"120\" scrolling=\"no\" frameborder=\"no\"src=\"https://w.soundcloud.com/player/?url=https%3A//api.soundcloud.com/tracks/40439758&amp;auto_play=false&amp;hide_related=true&amp;show_comments=false&amp;show_user=false&amp;show_reposts=false&amp;visual=false\"></iframe></td></tr><tr style='border:none'><td style='border:none'><iframe width=\"100%\" height=\"120\" scrolling=\"no\" frameborder=\"no\"src=\"https://w.soundcloud.com/player/?url=https%3A//api.soundcloud.com/tracks/19505822&amp;auto_play=false&amp;hide_related=true&amp;show_comments=false&amp;show_user=false&amp;show_reposts=false&amp;visual=false\"></iframe></td><td style='border:none'><iframe width=\"100%\" height=\"120\" scrolling=\"no\" frameborder=\"no\"src=\"https://w.soundcloud.com/player/?url=https%3A//api.soundcloud.com/tracks/82923543&amp;auto_play=false&amp;hide_related=true&amp;show_comments=false&amp;show_user=false&amp;show_reposts=false&amp;visual=false\"></iframe></td></tr><tr style='border:none'><td style='border:none'><iframe width=\"100%\" height=\"120\" scrolling=\"no\" frameborder=\"no\"src=\"https://w.soundcloud.com/player/?url=https%3A//api.soundcloud.com/tracks/108622874&amp;auto_play=false&amp;hide_related=true&amp;show_comments=false&amp;show_user=false&amp;show_reposts=false&amp;visual=false\"></iframe></td><td style='border:none'><iframe width=\"100%\" height=\"120\" scrolling=\"no\" frameborder=\"no\"src=\"https://w.soundcloud.com/player/?url=https%3A//api.soundcloud.com/tracks/5669751&amp;auto_play=false&amp;hide_related=true&amp;show_comments=false&amp;show_user=false&amp;show_reposts=false&amp;visual=false\"></iframe></td></tr><tr style='border:none'><td style='border:none'><iframe width=\"100%\" height=\"120\" scrolling=\"no\" frameborder=\"no\"src=\"https://w.soundcloud.com/player/?url=https%3A//api.soundcloud.com/tracks/40279580&amp;auto_play=false&amp;hide_related=true&amp;show_comments=false&amp;show_user=false&amp;show_reposts=false&amp;visual=false\"></iframe></td><td style='border:none'><iframe width=\"100%\" height=\"120\" scrolling=\"no\" frameborder=\"no\"src=\"https://w.soundcloud.com/player/?url=https%3A//api.soundcloud.com/tracks/132556947&amp;auto_play=false&amp;hide_related=true&amp;show_comments=false&amp;show_user=false&amp;show_reposts=false&amp;visual=false\"></iframe></td></tr><tr style='border:none'><td style='border:none'><iframe width=\"100%\" height=\"120\" scrolling=\"no\" frameborder=\"no\"src=\"https://w.soundcloud.com/player/?url=https%3A//api.soundcloud.com/tracks/15964713&amp;auto_play=false&amp;hide_related=true&amp;show_comments=false&amp;show_user=false&amp;show_reposts=false&amp;visual=false\"></iframe></td><td style='border:none'><iframe width=\"100%\" height=\"120\" scrolling=\"no\" frameborder=\"no\"src=\"https://w.soundcloud.com/player/?url=https%3A//api.soundcloud.com/tracks/16737972&amp;auto_play=false&amp;hide_related=true&amp;show_comments=false&amp;show_user=false&amp;show_reposts=false&amp;visual=false\"></iframe></td></tr><tr style='border:none'><td style='border:none'><iframe width=\"100%\" height=\"120\" scrolling=\"no\" frameborder=\"no\"src=\"https://w.soundcloud.com/player/?url=https%3A//api.soundcloud.com/tracks/23681901&amp;auto_play=false&amp;hide_related=true&amp;show_comments=false&amp;show_user=false&amp;show_reposts=false&amp;visual=false\"></iframe></td><td style='border:none'><iframe width=\"100%\" height=\"120\" scrolling=\"no\" frameborder=\"no\"src=\"https://w.soundcloud.com/player/?url=https%3A//api.soundcloud.com/tracks/941467&amp;auto_play=false&amp;hide_related=true&amp;show_comments=false&amp;show_user=false&amp;show_reposts=false&amp;visual=false\"></iframe></td></tr></table>"
      ],
      "text/plain": [
       "[array([ 68687842,  19505822, 108622874,  40279580,  15964713,  23681901], dtype=int64),\n",
       " array([ 40439758,  82923543,   5669751, 132556947,  16737972,    941467], dtype=int64)]"
      ]
     },
     "execution_count": 43,
     "metadata": {},
     "output_type": "execute_result"
    }
   ],
   "source": [
    "results_track_1 = search_similar_songs(68687842, feature_set='ssd', skip_query=False)\n",
    "results_track_2 = search_similar_songs(40439758, feature_set='rh', skip_query=False)\n",
    "\n",
    "compareSimilarityResults([results_track_1, results_track_2],\n",
    "                          width=100, height=120, visual=False,\n",
    "                          columns=['Statistical Spectrum Descriptors', 'Rhythm Histograms'])"
   ]
  },
  {
   "cell_type": "markdown",
   "metadata": {},
   "source": [
    "### Combining different Music Descriptors"
   ]
  },
  {
   "cell_type": "code",
   "execution_count": 45,
   "metadata": {
    "collapsed": true
   },
   "outputs": [],
   "source": [
    "def search_similar_songs_with_combined_sets(scds, query_song_id, feature_sets, skip_query=True, n_neighbors=6):\n",
    "    \n",
    "    features = scds.getCombinedFeaturesets(feature_sets)\n",
    "    \n",
    "    sim_song_search = NearestNeighbors(n_neighbors = n_neighbors, metric='l2')\n",
    "\n",
    "    #\n",
    "    scaled_feature_space = StandardScaler().fit_transform(features)\n",
    "\n",
    "    #\n",
    "    sim_song_search.fit(scaled_feature_space);\n",
    "\n",
    "    #\n",
    "    query_track_feature_vector = scaled_feature_space[scds.getFeatureIndexByID(query_song_id, feature_sets[0])]\n",
    "    \n",
    "    #\n",
    "    similar_songs = sim_song_search.kneighbors(query_track_feature_vector, return_distance=False)[0]\n",
    "    \n",
    "    if skip_query:\n",
    "        similar_songs = similar_songs[1:]\n",
    "\n",
    "    #\n",
    "    similar_soundcloud_ids = scds.getIdsByIndex(similar_songs, feature_sets[0])\n",
    "    \n",
    "    return similar_soundcloud_ids"
   ]
  },
  {
   "cell_type": "code",
   "execution_count": 47,
   "metadata": {
    "collapsed": false
   },
   "outputs": [
    {
     "data": {
      "text/html": [
       "<table width='100%' style='border:none'><tr style='border:none'><td style='border:none'><center><b>Mr Saxobeat</b></center></td><td style='border:none'><center><b>Papa roach - Last Resort</b></center></td></tr><tr style='border:none'><td style='border:none'><iframe width=\"100%\" height=\"120\" scrolling=\"no\" frameborder=\"no\"src=\"https://w.soundcloud.com/player/?url=https%3A//api.soundcloud.com/tracks/19505822&amp;auto_play=false&amp;hide_related=true&amp;show_comments=false&amp;show_user=false&amp;show_reposts=false&amp;visual=false\"></iframe></td><td style='border:none'><iframe width=\"100%\" height=\"120\" scrolling=\"no\" frameborder=\"no\"src=\"https://w.soundcloud.com/player/?url=https%3A//api.soundcloud.com/tracks/66306544&amp;auto_play=false&amp;hide_related=true&amp;show_comments=false&amp;show_user=false&amp;show_reposts=false&amp;visual=false\"></iframe></td></tr><tr style='border:none'><td style='border:none'><iframe width=\"100%\" height=\"120\" scrolling=\"no\" frameborder=\"no\"src=\"https://w.soundcloud.com/player/?url=https%3A//api.soundcloud.com/tracks/108622874&amp;auto_play=false&amp;hide_related=true&amp;show_comments=false&amp;show_user=false&amp;show_reposts=false&amp;visual=false\"></iframe></td><td style='border:none'><iframe width=\"100%\" height=\"120\" scrolling=\"no\" frameborder=\"no\"src=\"https://w.soundcloud.com/player/?url=https%3A//api.soundcloud.com/tracks/5669751&amp;auto_play=false&amp;hide_related=true&amp;show_comments=false&amp;show_user=false&amp;show_reposts=false&amp;visual=false\"></iframe></td></tr><tr style='border:none'><td style='border:none'><iframe width=\"100%\" height=\"120\" scrolling=\"no\" frameborder=\"no\"src=\"https://w.soundcloud.com/player/?url=https%3A//api.soundcloud.com/tracks/40279580&amp;auto_play=false&amp;hide_related=true&amp;show_comments=false&amp;show_user=false&amp;show_reposts=false&amp;visual=false\"></iframe></td><td style='border:none'><iframe width=\"100%\" height=\"120\" scrolling=\"no\" frameborder=\"no\"src=\"https://w.soundcloud.com/player/?url=https%3A//api.soundcloud.com/tracks/82923543&amp;auto_play=false&amp;hide_related=true&amp;show_comments=false&amp;show_user=false&amp;show_reposts=false&amp;visual=false\"></iframe></td></tr><tr style='border:none'><td style='border:none'><iframe width=\"100%\" height=\"120\" scrolling=\"no\" frameborder=\"no\"src=\"https://w.soundcloud.com/player/?url=https%3A//api.soundcloud.com/tracks/70343006&amp;auto_play=false&amp;hide_related=true&amp;show_comments=false&amp;show_user=false&amp;show_reposts=false&amp;visual=false\"></iframe></td><td style='border:none'><iframe width=\"100%\" height=\"120\" scrolling=\"no\" frameborder=\"no\"src=\"https://w.soundcloud.com/player/?url=https%3A//api.soundcloud.com/tracks/16737972&amp;auto_play=false&amp;hide_related=true&amp;show_comments=false&amp;show_user=false&amp;show_reposts=false&amp;visual=false\"></iframe></td></tr></table>"
      ],
      "text/plain": [
       "[array([ 19505822, 108622874,  40279580,  70343006], dtype=int64),\n",
       " array([66306544,  5669751, 82923543, 16737972], dtype=int64)]"
      ]
     },
     "execution_count": 47,
     "metadata": {},
     "output_type": "execute_result"
    }
   ],
   "source": [
    "feature_sets = ['ssd','rh']\n",
    "\n",
    "compareSimilarityResults([search_similar_songs_with_combined_sets(scds, 68687842, feature_sets=feature_sets, n_neighbors=5),\n",
    "                          search_similar_songs_with_combined_sets(scds, 40439758, feature_sets=feature_sets, n_neighbors=5)],\n",
    "                          width=100, height=120, visual=False,\n",
    "                          columns=[scds.getNameByID(68687842),\n",
    "                                   scds.getNameByID(40439758)])"
   ]
  },
  {
   "cell_type": "markdown",
   "metadata": {},
   "source": [
    "# Further Reading"
   ]
  },
  {
   "cell_type": "markdown",
   "metadata": {},
   "source": [
    " * [Audio Feature Extraction site of the MIR-Team @TU-Wien](http://www.ifs.tuwien.ac.at/mir/audiofeatureextraction.html)\n",
    " * Blog-post: [A gentle Introduction to Music Information Retrieval](http://www.europeanasounds.eu/news/a-gentle-introduction-to-music-information-retrieval-making-computers-understand-music)\n",
    " * [Same Blog-post with Python code](http://wwwnew.schindler.eu.com/blog/mir_intro/blog_with_code.html)"
   ]
  }
 ],
 "metadata": {
  "kernelspec": {
   "display_name": "Python 2",
   "language": "python",
   "name": "python2"
  },
  "language_info": {
   "codemirror_mode": {
    "name": "ipython",
    "version": 2
   },
   "file_extension": ".py",
   "mimetype": "text/x-python",
   "name": "python",
   "nbconvert_exporter": "python",
   "pygments_lexer": "ipython2",
   "version": "2.7.6"
  }
 },
 "nbformat": 4,
 "nbformat_minor": 0
}
